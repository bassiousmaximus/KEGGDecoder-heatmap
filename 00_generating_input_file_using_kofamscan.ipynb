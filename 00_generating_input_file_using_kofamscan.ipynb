{
 "cells": [
  {
   "cell_type": "markdown",
   "metadata": {},
   "source": [
    "## Generating input for KEGGDecoder"
   ]
  },
  {
   "cell_type": "markdown",
   "metadata": {},
   "source": [
    "The KEGGDecoder tool uses files output by KEGG ghostKOALA or kofamscan by default. This page walks you through how to generate these files using kofamscan. If you would like to generate them another way, the input files to KEGGDecoder look like this:"
   ]
  },
  {
   "cell_type": "markdown",
   "metadata": {},
   "source": [
    "```\n",
    "NORP96_1\n",
    "NORP96_2\n",
    "NORP96_3\n",
    "NORP96_4\n",
    "NORP96_5\n",
    "NORP96_6\tK04764\n",
    "NORP96_7\tK01890\n",
    "NORP96_8\tK01889\n",
    "NORP96_9\tK02887\n",
    "NORP96_10\tK02916\n",
    "NORP96_11\tK02520\n",
    "NORP96_12\tK01868\n",
    "NORP96_13\n",
    "NORP96_14\n",
    "NORP96_15\n",
    "NORP96_16\n",
    "NORP96_17\n",
    "NORP96_18\tK07334\n",
    "```"
   ]
  },
  {
   "cell_type": "markdown",
   "metadata": {},
   "source": [
    "We did not binder-ize kofamscan because it requires too much compute to be executed on a binder cloud computer. However, you can copy and paste the code on your local computer and try it there. \n",
    "\n",
    "The documentation states that kofamscan needs to be run on linux, but we have successfully run it on unix using conda. "
   ]
  },
  {
   "cell_type": "markdown",
   "metadata": {},
   "source": [
    "Download the databases and executables using:\n",
    "```\n",
    "# download the ko list\n",
    "wget ftp://ftp.genome.jp/pub/db/kofam/ko_list.gz\n",
    "# download the hmm profiles\n",
    "wget ftp://ftp.genome.jp/pub/db/kofam/profiles.tar.gz \t\n",
    "# download kofamscan tool\n",
    "wget ftp://ftp.genome.jp/pub/tools/kofamscan/kofamscan.tar.gz\t\n",
    "# download README\n",
    "wget ftp://ftp.genome.jp/pub/tools/kofamscan/README.md\t\t\t\n",
    "```\n",
    "\n",
    "And then unzip and untar the relevant files:\n",
    "\n",
    "```\n",
    "gunzip ko_list.gz\n",
    "tar xf profiles.tar.gz\n",
    "tar xf kofamscan.tar.gz\n",
    "```\n"
   ]
  },
  {
   "cell_type": "markdown",
   "metadata": {},
   "source": [
    "Next, make a conda environment using miniconda:\n",
    "\n",
    "```\n",
    "conda create -n kofamscan hmmer parallel\n",
    "conda activate kofamscan\n",
    "conda install -c conda-forge ruby\n",
    "```"
   ]
  },
  {
   "cell_type": "markdown",
   "metadata": {},
   "source": [
    "Then copy the template config file and add the relative paths of my newly downloaded kofamscan databases. The config file should look like this:\n",
    "\n",
    "`config.yml`:\n",
    "\n",
    "```\n",
    "# Path to your KO-HMM database\n",
    "# A database can be a .hmm file, a .hal file or a directory in which\n",
    "# .hmm files are. Omit the extension if it is .hal or .hmm file\n",
    "profile: ./profiles\n",
    "\n",
    "# Path to the KO list file\n",
    "ko_list: ko_list\n",
    "\n",
    "# Path to an executable file of hmmsearch\n",
    "# You do not have to set this if it is in your $PATH\n",
    "# hmmsearch: /usr/local/bin/hmmsearch\n",
    "\n",
    "# Path to an executable file of GNU parallel\n",
    "# You do not have to set this if it is in your $PATH\n",
    "# parallel: /usr/local/bin/parallel\n",
    "\n",
    "# Number of hmmsearch processes to be run parallelly\n",
    "cpu: 8\n",
    "```"
   ]
  },
  {
   "cell_type": "markdown",
   "metadata": {},
   "source": [
    "Lastly, run kofamscan:\n",
    "\n",
    "```\n",
    "./exec_annotation -o sb1_out sb1_proteins.faa\n",
    "```"
   ]
  }
 ],
 "metadata": {
  "kernelspec": {
   "display_name": "Python 3",
   "language": "python",
   "name": "python3"
  },
  "language_info": {
   "codemirror_mode": {
    "name": "ipython",
    "version": 3
   },
   "file_extension": ".py",
   "mimetype": "text/x-python",
   "name": "python",
   "nbconvert_exporter": "python",
   "pygments_lexer": "ipython3",
   "version": "3.7.3"
  }
 },
 "nbformat": 4,
 "nbformat_minor": 2
}
